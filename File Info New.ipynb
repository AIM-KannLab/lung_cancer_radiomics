{
 "cells": [
  {
   "attachments": {},
   "cell_type": "markdown",
   "metadata": {},
   "source": [
    "Create a csv file with patient id (10026629575), scan ID (id1), gtv list(GTV)\n"
   ]
  },
  {
   "cell_type": "code",
   "execution_count": 2,
   "metadata": {},
   "outputs": [],
   "source": [
    "import os\n",
    "import pandas as pd\n",
    "import glob\n",
    "import SimpleITK as sitk\n",
    "from matplotlib import pyplot as plt\n",
    "import numpy as np\n",
    "import cv2"
   ]
  },
  {
   "cell_type": "code",
   "execution_count": 2,
   "metadata": {},
   "outputs": [],
   "source": [
    "root_dir = '/Volumes/BWH-KANNLAB/Nancy/Lung_Cancer_Radiomics/Data'\n",
    "# folder list\n",
    "pat_folders = [f.path for f in os.scandir(root_dir) if f.is_dir()]"
   ]
  },
  {
   "cell_type": "code",
   "execution_count": 3,
   "metadata": {},
   "outputs": [],
   "source": [
    "# ignore .DS_Store\n",
    "def list_dir(path):\n",
    "    return glob.glob(os.path.join(path, '*'))"
   ]
  },
  {
   "cell_type": "code",
   "execution_count": 4,
   "metadata": {},
   "outputs": [],
   "source": [
    "def patient_GTV(pat_folders):\n",
    "    '''get patient GTV info'''\n",
    "    pat_ids = []\n",
    "    frac_ids = []\n",
    "    GTVs = []\n",
    "    key = 'GTV'\n",
    "\n",
    "    for pat in pat_folders:\n",
    "        for frac in list_dir(pat):\n",
    "            temp = []\n",
    "            if 'MR' not in frac:\n",
    "                frac_ids.append(frac.split('_')[-1])\n",
    "                pat_ids.append(pat.split('/')[-1])\n",
    "                for fname in os.listdir(frac):\n",
    "                    if key in fname:\n",
    "                        temp.append(fname)\n",
    "                GTVs.append(temp)\n",
    "    pat = pd.DataFrame({'PMRN': pat_ids, 'Fraction': frac_ids, 'GTV_name': GTVs})\n",
    "    return pat"
   ]
  },
  {
   "cell_type": "code",
   "execution_count": 7,
   "metadata": {},
   "outputs": [
    {
     "data": {
      "text/html": [
       "<div>\n",
       "<style scoped>\n",
       "    .dataframe tbody tr th:only-of-type {\n",
       "        vertical-align: middle;\n",
       "    }\n",
       "\n",
       "    .dataframe tbody tr th {\n",
       "        vertical-align: top;\n",
       "    }\n",
       "\n",
       "    .dataframe thead th {\n",
       "        text-align: right;\n",
       "    }\n",
       "</style>\n",
       "<table border=\"1\" class=\"dataframe\">\n",
       "  <thead>\n",
       "    <tr style=\"text-align: right;\">\n",
       "      <th></th>\n",
       "      <th>PMRN</th>\n",
       "      <th>Fraction</th>\n",
       "      <th>GTV_name</th>\n",
       "    </tr>\n",
       "  </thead>\n",
       "  <tbody>\n",
       "    <tr>\n",
       "      <th>0</th>\n",
       "      <td>10020981121</td>\n",
       "      <td>50x45x43.25sec.LIBH</td>\n",
       "      <td>[Struct_GTV.nii.gz, Struct_GTV_3MM.nii.gz, Str...</td>\n",
       "    </tr>\n",
       "    <tr>\n",
       "      <th>1</th>\n",
       "      <td>10020981121</td>\n",
       "      <td>1</td>\n",
       "      <td>[Struct_GTV.nii.gz, Struct_GTV_3MM.nii.gz, Str...</td>\n",
       "    </tr>\n",
       "    <tr>\n",
       "      <th>2</th>\n",
       "      <td>10020981121</td>\n",
       "      <td>2</td>\n",
       "      <td>[Struct_GTV.nii.gz, Struct_GTV_3MM.nii.gz, Str...</td>\n",
       "    </tr>\n",
       "    <tr>\n",
       "      <th>3</th>\n",
       "      <td>10020981121</td>\n",
       "      <td>3</td>\n",
       "      <td>[Struct_GTV.nii.gz, Struct_GTV_3MM.nii.gz, Str...</td>\n",
       "    </tr>\n",
       "    <tr>\n",
       "      <th>4</th>\n",
       "      <td>10020981121</td>\n",
       "      <td>4</td>\n",
       "      <td>[Struct_GTV.nii.gz, Struct_GTV_3MM.nii.gz, Str...</td>\n",
       "    </tr>\n",
       "  </tbody>\n",
       "</table>\n",
       "</div>"
      ],
      "text/plain": [
       "          PMRN             Fraction  \\\n",
       "0  10020981121  50x45x43.25sec.LIBH   \n",
       "1  10020981121                    1   \n",
       "2  10020981121                    2   \n",
       "3  10020981121                    3   \n",
       "4  10020981121                    4   \n",
       "\n",
       "                                            GTV_name  \n",
       "0  [Struct_GTV.nii.gz, Struct_GTV_3MM.nii.gz, Str...  \n",
       "1  [Struct_GTV.nii.gz, Struct_GTV_3MM.nii.gz, Str...  \n",
       "2  [Struct_GTV.nii.gz, Struct_GTV_3MM.nii.gz, Str...  \n",
       "3  [Struct_GTV.nii.gz, Struct_GTV_3MM.nii.gz, Str...  \n",
       "4  [Struct_GTV.nii.gz, Struct_GTV_3MM.nii.gz, Str...  "
      ]
     },
     "execution_count": 7,
     "metadata": {},
     "output_type": "execute_result"
    }
   ],
   "source": [
    "pat = patient_GTV(pat_folders)\n",
    "pat.head()"
   ]
  },
  {
   "cell_type": "code",
   "execution_count": 8,
   "metadata": {},
   "outputs": [],
   "source": [
    "# export data\n",
    "pat.to_csv('file_info0404.csv')"
   ]
  },
  {
   "cell_type": "code",
   "execution_count": 9,
   "metadata": {},
   "outputs": [],
   "source": [
    "def patient_heart(pat_folders):\n",
    "    '''get patient heart info:\n",
    "    check if \"Heart\" or \"HEART\" in RT structure names of each patient fraction\n",
    "    '''\n",
    "    pat_ids = []\n",
    "    frac_ids = []\n",
    "    H_strs = []\n",
    "\n",
    "    for pat in pat_folders:\n",
    "        for frac in list_dir(pat):\n",
    "            temp = []\n",
    "            if 'MR' not in frac:\n",
    "                frac_ids.append(frac.split('_')[-1])\n",
    "                pat_ids.append(pat.split('/')[-1])\n",
    "                for fname in os.listdir(frac):\n",
    "                    if 'Heart' in fname or 'HEART' in fname:\n",
    "                        temp.append(fname)\n",
    "                H_strs.append(temp)\n",
    "    pat_heart = pd.DataFrame({'PMRN': pat_ids, 'Fraction': frac_ids, 'Struct_Heart_name': H_strs})\n",
    "    return pat_heart"
   ]
  },
  {
   "cell_type": "code",
   "execution_count": 10,
   "metadata": {},
   "outputs": [
    {
     "data": {
      "text/html": [
       "<div>\n",
       "<style scoped>\n",
       "    .dataframe tbody tr th:only-of-type {\n",
       "        vertical-align: middle;\n",
       "    }\n",
       "\n",
       "    .dataframe tbody tr th {\n",
       "        vertical-align: top;\n",
       "    }\n",
       "\n",
       "    .dataframe thead th {\n",
       "        text-align: right;\n",
       "    }\n",
       "</style>\n",
       "<table border=\"1\" class=\"dataframe\">\n",
       "  <thead>\n",
       "    <tr style=\"text-align: right;\">\n",
       "      <th></th>\n",
       "      <th>PMRN</th>\n",
       "      <th>Fraction</th>\n",
       "      <th>Struct_Heart_name</th>\n",
       "    </tr>\n",
       "  </thead>\n",
       "  <tbody>\n",
       "    <tr>\n",
       "      <th>0</th>\n",
       "      <td>10020981121</td>\n",
       "      <td>50x45x43.25sec.LIBH</td>\n",
       "      <td>[Struct_Heart.nii.gz]</td>\n",
       "    </tr>\n",
       "    <tr>\n",
       "      <th>1</th>\n",
       "      <td>10020981121</td>\n",
       "      <td>1</td>\n",
       "      <td>[Struct_Heart.nii.gz]</td>\n",
       "    </tr>\n",
       "    <tr>\n",
       "      <th>2</th>\n",
       "      <td>10020981121</td>\n",
       "      <td>2</td>\n",
       "      <td>[Struct_Heart.nii.gz]</td>\n",
       "    </tr>\n",
       "    <tr>\n",
       "      <th>3</th>\n",
       "      <td>10020981121</td>\n",
       "      <td>3</td>\n",
       "      <td>[Struct_Heart.nii.gz]</td>\n",
       "    </tr>\n",
       "    <tr>\n",
       "      <th>4</th>\n",
       "      <td>10020981121</td>\n",
       "      <td>4</td>\n",
       "      <td>[Struct_Heart.nii.gz]</td>\n",
       "    </tr>\n",
       "  </tbody>\n",
       "</table>\n",
       "</div>"
      ],
      "text/plain": [
       "          PMRN             Fraction      Struct_Heart_name\n",
       "0  10020981121  50x45x43.25sec.LIBH  [Struct_Heart.nii.gz]\n",
       "1  10020981121                    1  [Struct_Heart.nii.gz]\n",
       "2  10020981121                    2  [Struct_Heart.nii.gz]\n",
       "3  10020981121                    3  [Struct_Heart.nii.gz]\n",
       "4  10020981121                    4  [Struct_Heart.nii.gz]"
      ]
     },
     "execution_count": 10,
     "metadata": {},
     "output_type": "execute_result"
    }
   ],
   "source": [
    "pat_heart = patient_heart(pat_folders)\n",
    "pat_heart.head()"
   ]
  },
  {
   "cell_type": "code",
   "execution_count": 11,
   "metadata": {},
   "outputs": [],
   "source": [
    "# export data\n",
    "pat_heart.to_csv('Struct_heart_info0404.csv')"
   ]
  },
  {
   "cell_type": "code",
   "execution_count": null,
   "metadata": {},
   "outputs": [],
   "source": [
    "def patient_lung(pat_folders):\n",
    "    '''get patient lung info:\n",
    "    check if \"Lung\" or \"LUNG\" in RT structure names of each patient fraction\n",
    "    '''\n",
    "    pat_ids = []\n",
    "    frac_ids = []\n",
    "    H_strs = []\n",
    "\n",
    "    for pat in pat_folders:\n",
    "        for frac in list_dir(pat):\n",
    "            temp = []\n",
    "            if 'MR' not in frac:\n",
    "                frac_ids.append(frac.split('_')[-1])\n",
    "                pat_ids.append(pat.split('/')[-1])\n",
    "                for fname in os.listdir(frac):\n",
    "                    if 'Heart' in fname or 'HEART' in fname:\n",
    "                        temp.append(fname)\n",
    "                H_strs.append(temp)\n",
    "    pat_heart = pd.DataFrame({'PMRN': pat_ids, 'Fraction': frac_ids, 'Struct_Heart_name': H_strs})\n",
    "    return pat_heart"
   ]
  },
  {
   "attachments": {},
   "cell_type": "markdown",
   "metadata": {},
   "source": [
    "### Check Heart Structures from match_paths.csv"
   ]
  },
  {
   "cell_type": "code",
   "execution_count": 3,
   "metadata": {},
   "outputs": [
    {
     "data": {
      "text/html": [
       "<div>\n",
       "<style scoped>\n",
       "    .dataframe tbody tr th:only-of-type {\n",
       "        vertical-align: middle;\n",
       "    }\n",
       "\n",
       "    .dataframe tbody tr th {\n",
       "        vertical-align: top;\n",
       "    }\n",
       "\n",
       "    .dataframe thead th {\n",
       "        text-align: right;\n",
       "    }\n",
       "</style>\n",
       "<table border=\"1\" class=\"dataframe\">\n",
       "  <thead>\n",
       "    <tr style=\"text-align: right;\">\n",
       "      <th></th>\n",
       "      <th>Unnamed: 0</th>\n",
       "      <th>patient_id</th>\n",
       "      <th>mr_image_path</th>\n",
       "      <th>rt_struct_path</th>\n",
       "      <th>RTst converted</th>\n",
       "      <th>rt_struct_stored_path</th>\n",
       "    </tr>\n",
       "  </thead>\n",
       "  <tbody>\n",
       "    <tr>\n",
       "      <th>0</th>\n",
       "      <td>0</td>\n",
       "      <td>10025460949</td>\n",
       "      <td>/Volumes/BWH-KANNLAB/Ben/MRL_Radiomics/MRL_Rad...</td>\n",
       "      <td>/Volumes/BWH-KANNLAB/Ben/MRL_Radiomics/MRL_Rad...</td>\n",
       "      <td>1</td>\n",
       "      <td>/Volumes/BWH-KANNLAB/Nancy/Lung_Cancer_Radiomi...</td>\n",
       "    </tr>\n",
       "    <tr>\n",
       "      <th>1</th>\n",
       "      <td>1</td>\n",
       "      <td>10025460949</td>\n",
       "      <td>/Volumes/BWH-KANNLAB/Ben/MRL_Radiomics/MRL_Rad...</td>\n",
       "      <td>/Volumes/BWH-KANNLAB/Ben/MRL_Radiomics/MRL_Rad...</td>\n",
       "      <td>1</td>\n",
       "      <td>/Volumes/BWH-KANNLAB/Nancy/Lung_Cancer_Radiomi...</td>\n",
       "    </tr>\n",
       "    <tr>\n",
       "      <th>2</th>\n",
       "      <td>2</td>\n",
       "      <td>10025460949</td>\n",
       "      <td>/Volumes/BWH-KANNLAB/Ben/MRL_Radiomics/MRL_Rad...</td>\n",
       "      <td>/Volumes/BWH-KANNLAB/Ben/MRL_Radiomics/MRL_Rad...</td>\n",
       "      <td>1</td>\n",
       "      <td>/Volumes/BWH-KANNLAB/Nancy/Lung_Cancer_Radiomi...</td>\n",
       "    </tr>\n",
       "    <tr>\n",
       "      <th>3</th>\n",
       "      <td>3</td>\n",
       "      <td>10025460949</td>\n",
       "      <td>/Volumes/BWH-KANNLAB/Ben/MRL_Radiomics/MRL_Rad...</td>\n",
       "      <td>/Volumes/BWH-KANNLAB/Ben/MRL_Radiomics/MRL_Rad...</td>\n",
       "      <td>1</td>\n",
       "      <td>/Volumes/BWH-KANNLAB/Nancy/Lung_Cancer_Radiomi...</td>\n",
       "    </tr>\n",
       "    <tr>\n",
       "      <th>4</th>\n",
       "      <td>4</td>\n",
       "      <td>10025460949</td>\n",
       "      <td>/Volumes/BWH-KANNLAB/Ben/MRL_Radiomics/MRL_Rad...</td>\n",
       "      <td>/Volumes/BWH-KANNLAB/Ben/MRL_Radiomics/MRL_Rad...</td>\n",
       "      <td>1</td>\n",
       "      <td>/Volumes/BWH-KANNLAB/Nancy/Lung_Cancer_Radiomi...</td>\n",
       "    </tr>\n",
       "  </tbody>\n",
       "</table>\n",
       "</div>"
      ],
      "text/plain": [
       "   Unnamed: 0   patient_id                                      mr_image_path  \\\n",
       "0           0  10025460949  /Volumes/BWH-KANNLAB/Ben/MRL_Radiomics/MRL_Rad...   \n",
       "1           1  10025460949  /Volumes/BWH-KANNLAB/Ben/MRL_Radiomics/MRL_Rad...   \n",
       "2           2  10025460949  /Volumes/BWH-KANNLAB/Ben/MRL_Radiomics/MRL_Rad...   \n",
       "3           3  10025460949  /Volumes/BWH-KANNLAB/Ben/MRL_Radiomics/MRL_Rad...   \n",
       "4           4  10025460949  /Volumes/BWH-KANNLAB/Ben/MRL_Radiomics/MRL_Rad...   \n",
       "\n",
       "                                      rt_struct_path  RTst converted  \\\n",
       "0  /Volumes/BWH-KANNLAB/Ben/MRL_Radiomics/MRL_Rad...               1   \n",
       "1  /Volumes/BWH-KANNLAB/Ben/MRL_Radiomics/MRL_Rad...               1   \n",
       "2  /Volumes/BWH-KANNLAB/Ben/MRL_Radiomics/MRL_Rad...               1   \n",
       "3  /Volumes/BWH-KANNLAB/Ben/MRL_Radiomics/MRL_Rad...               1   \n",
       "4  /Volumes/BWH-KANNLAB/Ben/MRL_Radiomics/MRL_Rad...               1   \n",
       "\n",
       "                               rt_struct_stored_path  \n",
       "0  /Volumes/BWH-KANNLAB/Nancy/Lung_Cancer_Radiomi...  \n",
       "1  /Volumes/BWH-KANNLAB/Nancy/Lung_Cancer_Radiomi...  \n",
       "2  /Volumes/BWH-KANNLAB/Nancy/Lung_Cancer_Radiomi...  \n",
       "3  /Volumes/BWH-KANNLAB/Nancy/Lung_Cancer_Radiomi...  \n",
       "4  /Volumes/BWH-KANNLAB/Nancy/Lung_Cancer_Radiomi...  "
      ]
     },
     "execution_count": 3,
     "metadata": {},
     "output_type": "execute_result"
    }
   ],
   "source": [
    "# import data\n",
    "df = pd.read_csv('match_paths.csv')\n",
    "df.head()"
   ]
  },
  {
   "cell_type": "code",
   "execution_count": null,
   "metadata": {},
   "outputs": [],
   "source": [
    "def patient_heart(pat_folders):\n",
    "    '''get patient heart info:\n",
    "    check if \"Heart\" or \"HEART\" in RT structure names of each patient fraction\n",
    "    '''\n",
    "    pat_ids = []\n",
    "    frac_ids = []\n",
    "    H_strs = []\n",
    "\n",
    "    for pat in pat_folders:\n",
    "        for frac in list_dir(pat):\n",
    "            temp = []\n",
    "            if 'MR' not in frac:\n",
    "                frac_ids.append(frac.split('_')[-1])\n",
    "                pat_ids.append(pat.split('/')[-1])\n",
    "                for fname in os.listdir(frac):\n",
    "                    if 'Heart' in fname or 'HEART' in fname:\n",
    "                        temp.append(fname)\n",
    "                H_strs.append(temp)\n",
    "    pat_heart = pd.DataFrame({'PMRN': pat_ids, 'Fraction': frac_ids, 'Struct_Heart_name': H_strs})\n",
    "    return pat_heart"
   ]
  },
  {
   "cell_type": "code",
   "execution_count": 14,
   "metadata": {},
   "outputs": [
    {
     "name": "stdout",
     "output_type": "stream",
     "text": [
      "16-bit unsigned integer\n"
     ]
    }
   ],
   "source": [
    "image = sitk.ReadImage('/Volumes/BWH-KANNLAB/Nancy/Lung_Cancer_Radiomics/Data/10025460949/MR/2019-07-08_171415_Fraction_3.nii.gz')\n",
    "print(image.GetPixelIDTypeAsString()) # original image size sitkUInt16\n"
   ]
  },
  {
   "cell_type": "code",
   "execution_count": 13,
   "metadata": {},
   "outputs": [
    {
     "name": "stdout",
     "output_type": "stream",
     "text": [
      "   Courses    Fee Duration  Discount\n",
      "0    Spark  20000   30days      1000\n",
      "1   Hadoop  25000   40days      2500\n",
      "2   pandas  30000   35days      1500\n",
      "3     Java  22000   60days      1200\n",
      "4  Pyspark  26000   50days      3000\n"
     ]
    }
   ],
   "source": [
    "technologies = ({\n",
    "    'Courses':[\"Spark\",\"Hadoop\",\"pandas\",\"Java\",\"Pyspark\"],\n",
    "    'Fee' :[20000,25000,30000,22000,26000],\n",
    "    'Duration':['30days','40days','35days','60days','50days'],\n",
    "    'Discount':[1000,2500,1500,1200,3000]\n",
    "               })\n",
    "df = pd.DataFrame(technologies)\n",
    "print(df)"
   ]
  },
  {
   "cell_type": "code",
   "execution_count": 15,
   "metadata": {},
   "outputs": [
    {
     "name": "stdout",
     "output_type": "stream",
     "text": [
      "  Courses    Fee Duration  Discount\n",
      "0   Spark  20000   30days      1000\n",
      "1    Hive  25000   45days      2000\n",
      "2    Hive  25000   45days      2000\n",
      "3    Hive  25000   45days      2000\n",
      "4    Hive  25000   45days      2000\n",
      "6    Hive  25000   45days      2000\n",
      "5    Hive  25000   45days      2000\n"
     ]
    }
   ],
   "source": [
    "for i in range(0, len(df.Courses)):\n",
    "    df.loc[i+1] = ['Hive',25000,'45days',2000]\n",
    "print(df)"
   ]
  },
  {
   "cell_type": "code",
   "execution_count": 16,
   "metadata": {},
   "outputs": [],
   "source": [
    "# Find Correct GTV to use\n",
    "def GTV_to_use(pat_id, rt_struct_stored_path, gtv_df):\n",
    "    '''\n",
    "    Step 1: check GTVs in RT structure stored path\n",
    "    Step 2: select correct GTVs to use\n",
    "\n",
    "    Args: \n",
    "    pat_id: patient id in \n",
    "    rt_struct_stored_path: RT structure stored path in match_paths0404.csv\n",
    "    gtv_df: list of correct GTVs to use matched with unique GTVs\n",
    "    '''\n",
    "    GTVs = []\n",
    "    GTVs_use = []\n",
    "    GTVs_use_path = []\n",
    "    i = 0\n",
    "    gtv_df['New_GTV_name'] = gtv_df['GTV_name'].astype(str)\n",
    "\n",
    "    for rtst in rt_struct_stored_path:\n",
    "        temp = []\n",
    "        gtv_use = []\n",
    "        if pd.isnull(rtst) == False:\n",
    "            i += 1\n",
    "            for fname in os.listdir(rtst):\n",
    "                if 'GTV' in fname:\n",
    "                    temp.append(fname)\n",
    "            #print(temp)\n",
    "            #for gtvs in gtv_df['New_GTV_name']:\n",
    "                #if gtvs == str(temp):\n",
    "            gtv_use = gtv_df.loc[gtv_df['New_GTV_name'] == str(temp), 'GTV_use'].iloc[0]\n",
    "            gtv_use_path = ''\n",
    "            #for gtv in gtv_use.split(', '):\n",
    "            #    gtv_use_path += (rtst + '/' + gtv + ', ')\n",
    "            #gtv_use_path = gtv_use_path[:-2]\n",
    "            # if store gtv_use_path as list values\n",
    "            gtv_use_path = [(rtst + '/' + gtv) for gtv in gtv_use.split(', ')]\n",
    "            GTVs_use_path.append(gtv_use_path)\n",
    "            #print(i, gtv_use)\n",
    "            GTVs_use.append(gtv_use)\n",
    "            GTVs.append(temp)\n",
    "        else:\n",
    "            i += 1\n",
    "            print(i, rtst, 'error') # print error for patient index\n",
    "            GTVs_use.append('')\n",
    "            GTVs_use_path.append('')\n",
    "            GTVs.append('')\n",
    "    #return GTVs, GTVs_use\n",
    "    df = pd.DataFrame({'PMRN': pat_id, 'GTV_name': GTVs, 'GTV_use': GTVs_use, 'GTV_use_path': GTVs_use_path})\n",
    "    return df"
   ]
  },
  {
   "cell_type": "code",
   "execution_count": 17,
   "metadata": {},
   "outputs": [
    {
     "name": "stdout",
     "output_type": "stream",
     "text": [
      "248 nan error\n",
      "251 nan error\n"
     ]
    }
   ],
   "source": [
    "info_df = pd.read_csv('match_paths0404.csv')\n",
    "gtv_df = gtv_df = pd.read_csv('GTV_use.csv')\n",
    "test_df = GTV_to_use(info_df.patient_id, info_df.rt_struct_stored_path, gtv_df)"
   ]
  }
 ],
 "metadata": {
  "kernelspec": {
   "display_name": "Python 3",
   "language": "python",
   "name": "python3"
  },
  "language_info": {
   "codemirror_mode": {
    "name": "ipython",
    "version": 3
   },
   "file_extension": ".py",
   "mimetype": "text/x-python",
   "name": "python",
   "nbconvert_exporter": "python",
   "pygments_lexer": "ipython3",
   "version": "3.9.1"
  },
  "orig_nbformat": 4
 },
 "nbformat": 4,
 "nbformat_minor": 2
}
