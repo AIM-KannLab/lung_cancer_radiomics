{
 "cells": [
  {
   "cell_type": "code",
   "execution_count": 2,
   "metadata": {},
   "outputs": [],
   "source": [
    "import os\n",
    "import pandas as pd\n",
    "import numpy as np\n",
    "import glob\n",
    "import SimpleITK as sitk\n",
    "\n",
    "try:\n",
    "    import platipy\n",
    "except:\n",
    "    %pip install git+https://github.com/pyplati/platipy.git\n",
    "    import platipy\n",
    "\n",
    "from pathlib import Path\n",
    "from platipy.dicom.io.rtstruct_to_nifti import convert_rtstruct\n",
    "from platipy.imaging.tests.data import get_lung_dicom"
   ]
  },
  {
   "cell_type": "code",
   "execution_count": 4,
   "metadata": {},
   "outputs": [],
   "source": [
    "# read dicom file\n",
    "proj_dir = '/Volumes/BWH-KANNLAB/Ben/MRL_Radiomics/MRL_Radiomics_Lung/MRL_Lung_BWH_data'\n",
    "result_dir = '/Volumes/BWH-KANNLAB/Nancy/Lung_Cancer_Radiomics/Data'\n",
    "# list of Studies folder: e.g. 2019-07__Studies\n",
    "studies_list = list_dir(proj_dir) # len = 29\n",
    "# list of patient folder: \n",
    "# e.g. HARRISON^ JOHN_10025460949_MR_2019-07-08_171415_Abdomen^ABDOMEN.SBRT.(Adult)_Fraction.1.Setup.Scan.Reopt_n144__00000\n",
    "pat_folders = []\n",
    "#for i in range(0, len(studies_list)):\n",
    "#    pat_folders.extend(list_dir(studies_list[i])) # len = 933\n",
    "for folder in studies_list:\n",
    "    pat_folders.extend(list_dir(folder)) # len = 933"
   ]
  },
  {
   "cell_type": "code",
   "execution_count": 3,
   "metadata": {},
   "outputs": [],
   "source": [
    "# ignore .DS_Store\n",
    "def list_dir(path):\n",
    "    return glob.glob(os.path.join(path, '*'))"
   ]
  },
  {
   "cell_type": "code",
   "execution_count": 6,
   "metadata": {},
   "outputs": [],
   "source": [
    "def get_pat_folder(proj_dir):\n",
    "    ''' get patient folder directory and create unique patient folders\n",
    "\n",
    "    Args:\n",
    "    proj_dir: directory to all data (Studies folders)\n",
    "    '''\n",
    "    # list of Studies folder: e.g. 2019-07__Studies\n",
    "    studies_list = list_dir(proj_dir) # len = 29\n",
    "    # list of patient folder: \n",
    "    # e.g. HARRISON^ JOHN_10025460949_MR_2019-07-08_171415_Abdomen^ABDOMEN.SBRT...\n",
    "    pat_folders = []\n",
    "    for folder in studies_list:\n",
    "        pat_folders.extend(list_dir(folder)) # len = 933\n",
    "    return pat_folders"
   ]
  },
  {
   "cell_type": "code",
   "execution_count": 11,
   "metadata": {},
   "outputs": [],
   "source": [
    "def create_pat_folder(pat_folders):\n",
    "    ''' create new patient folders & RTstruct folders\n",
    "\n",
    "    Args:\n",
    "    pat_folders: patient folder\n",
    "    '''\n",
    "    IDs = []\n",
    "    path_list = []\n",
    "    frac_list = []\n",
    "    for pat in pat_folders:\n",
    "        temp = pat.split('/')[-1].split('_')\n",
    "        ID = temp[1]\n",
    "        IDs.append(ID)\n",
    "        date = temp[3]\n",
    "        sixdig = temp[4]\n",
    "        # check if patient folder exists\n",
    "        path = result_dir + '/' + ID\n",
    "        path_list.append(path)\n",
    "        isExist = os.path.exists(path)\n",
    "        if not isExist:\n",
    "            os.makedirs(path)\n",
    "            print('New patient folder is created for', ID)\n",
    "        # create RTstruct folders according to original MR image folder paths\n",
    "        if temp[2] == 'MR':\n",
    "            frac = temp[6]\n",
    "            if 'Fraction.' in frac:\n",
    "                frac_path = path + '/' + date + '_' + sixdig + '_' + frac[:8] + '_' + frac[9]\n",
    "            else:\n",
    "                frac_path = path + '/' + date + '_' + sixdig + '_' + frac\n",
    "            frac_list.append(frac_path)\n",
    "            frac_isExist = os.path.exists(frac_path)\n",
    "            if not frac_isExist:\n",
    "                os.makedirs(frac_path)\n",
    "                print('New scan id patient folder is created for', ID)\n",
    "    return path_list, frac_list"
   ]
  },
  {
   "cell_type": "code",
   "execution_count": 16,
   "metadata": {},
   "outputs": [
    {
     "name": "stdout",
     "output_type": "stream",
     "text": [
      "933 253\n"
     ]
    }
   ],
   "source": [
    "path_list, frac_list = create_pat_folder(pat_folders)\n",
    "print(len(path_list), len(frac_list)) # 933, 253"
   ]
  },
  {
   "cell_type": "code",
   "execution_count": 5,
   "metadata": {},
   "outputs": [],
   "source": [
    "def convert_dicom_image(dicom_path):\n",
    "    '''read and convert DICOM MR image series,\n",
    "    record MR image series paths,\n",
    "    export converted MR scan nii.gz file paths\n",
    "\n",
    "    Args:\n",
    "    dicom_path: path to the patient MRI folder (pat_folders)\n",
    "\n",
    "    '''\n",
    "    mr_paths = [] # save mr paths in pat_folders\n",
    "    mr_save_paths = [] # save new mr paths\n",
    "    for pat in dicom_path:\n",
    "        temp = pat.split('/')[-1].split('_')\n",
    "        ID = temp[1] # patient id\n",
    "        date = temp[3] # scan date\n",
    "        sixdig = temp[4]\n",
    "        frac = temp[6] # fraction number\n",
    "        if temp[2] == 'MR':\n",
    "            mr_paths.append(pat)\n",
    "            image = sitk.ReadImage(sitk.ImageSeriesReader().GetGDCMSeriesFileNames(pat))\n",
    "            if 'Fraction.' in frac:\n",
    "                save_path = str(result_dir + '/' + ID + '/' + 'MR' + '/'+ date + '_' + sixdig + '_' + frac[:8] + '_' + frac[9] + '.nii.gz')\n",
    "                mr_save_paths.append(save_path)\n",
    "                # check if file already exists\n",
    "                if not os.path.exists(save_path):\n",
    "                    sitk.WriteImage(image, save_path)\n",
    "                    print('nii.gz generated for', ID)\n",
    "            else:\n",
    "                save_path = str(result_dir + '/' + ID + '/' + 'MR' + '/'+ date + '_' + sixdig + '_' + frac + '.nii.gz')\n",
    "                mr_save_paths.append(save_path)\n",
    "                if not os.path.exists(save_path):\n",
    "                    sitk.WriteImage(image, save_path)\n",
    "                    print('nii.gz generated for', ID)\n",
    "    return mr_paths, mr_save_paths"
   ]
  },
  {
   "cell_type": "code",
   "execution_count": 45,
   "metadata": {},
   "outputs": [],
   "source": [
    "# force convert dicom image\n",
    "image = sitk.ReadImage(sitk.ImageSeriesReader().GetGDCMSeriesFileNames(\n",
    "'/Volumes/BWH-KANNLAB/Nancy/Lung_Cancer_Radiomics/MissingData/10144345807/2.16.840.1.114493.1.4.227.3.20210219120037687/2.16.840.1.114493.1.4.227.3.20210315074621570_2_MR'))\n",
    "sitk.WriteImage(image, '/Volumes/BWH-KANNLAB/Nancy/Lung_Cancer_Radiomics/Data/10144345807/MR/2021-02-19_120037_Fraction_2.nii.gz')"
   ]
  },
  {
   "cell_type": "code",
   "execution_count": 44,
   "metadata": {},
   "outputs": [],
   "source": [
    "# force convert rt struct\n",
    "# force match MR images & RT structs\n",
    "platipy.dicom.io.rtstruct_to_nifti.convert_rtstruct( \n",
    "'/Volumes/BWH-KANNLAB/Nancy/Lung_Cancer_Radiomics/MissingData/10144345807/2.16.840.1.114493.1.4.227.3.20210219120037687/2.16.840.1.114493.1.4.227.3.20210315074621570_2_MR', \n",
    "                     dcm_rt_file = '/Volumes/BWH-KANNLAB/Nancy/Lung_Cancer_Radiomics/MissingData/10144345807/2.16.840.1.114493.1.4.227.3.20210219120037687/2.16.840.1.114493.1.4.227.6.20210311100318133_2_RTst/RTSTRUCT2.16.840.1.114493.1.4.227.6.20210311100318137.dcm', \n",
    "                     output_dir= '/Volumes/BWH-KANNLAB/Nancy/Lung_Cancer_Radiomics/Data/10144345807/2021-02-19_120037_Fraction_2')"
   ]
  },
  {
   "cell_type": "code",
   "execution_count": 83,
   "metadata": {},
   "outputs": [],
   "source": [
    "# check if all MR images been converted to nii.gz\n",
    "def check_MR_convert_(pat_folders):\n",
    "    mr_paths = [] # save mr paths in pat_folders\n",
    "    mr_save_paths = [] # save new mr paths\n",
    "    IDs = []\n",
    "    for pat in pat_folders:\n",
    "        temp = pat.split('/')[-1].split('_')\n",
    "        ID = temp[1] # patient id\n",
    "        date = temp[3] # scan date\n",
    "        sixdig = temp[4]\n",
    "        frac = temp[6] # fraction number\n",
    "        if temp[2] == 'MR':\n",
    "            mr_paths.append(pat)\n",
    "            IDs.append(ID)\n",
    "            if 'Fraction.' in frac:\n",
    "                save_path = str(result_dir + '/' + ID + '/' + 'MR' + '/'+ date + '_' + sixdig + '_' + frac[:8] + '_' + frac[9] + '.nii.gz')\n",
    "                mr_save_paths.append(save_path)\n",
    "                # check if file already exists\n",
    "                if not os.path.exists(save_path):\n",
    "                    print('MR image nii.gz not generated for', ID)\n",
    "            else:\n",
    "                save_path = str(result_dir + '/' + ID + '/' + 'MR' + '/'+ date + '_' + sixdig + '_' + frac + '.nii.gz')\n",
    "                mr_save_paths.append(save_path)\n",
    "                if not os.path.exists(save_path):\n",
    "                    print('MR image nii.gz not generated for', ID)\n",
    "    return IDs, mr_paths, mr_save_paths # 253, 253"
   ]
  },
  {
   "cell_type": "code",
   "execution_count": 74,
   "metadata": {},
   "outputs": [
    {
     "name": "stdout",
     "output_type": "stream",
     "text": [
      "253 253 253\n"
     ]
    }
   ],
   "source": [
    "#mr_paths, mr_save_paths= check_MR_convert_(pat_folders)\n",
    "#print(len(mr_paths), len(mr_save_paths)) # all MRs are converted to nii.gz files\n",
    "IDs, mr_paths, mr_save_paths = check_MR_convert_(pat_folders)\n",
    "print(len(IDs), len(mr_paths), len(mr_save_paths))"
   ]
  },
  {
   "cell_type": "code",
   "execution_count": 76,
   "metadata": {},
   "outputs": [],
   "source": [
    "pd.DataFrame({'IDs': IDs, 'mr_stored_path':mr_save_paths}).to_csv('mr_save_path.csv')"
   ]
  },
  {
   "cell_type": "code",
   "execution_count": 24,
   "metadata": {},
   "outputs": [
    {
     "name": "stdout",
     "output_type": "stream",
     "text": [
      "253 253\n"
     ]
    }
   ],
   "source": [
    "# test\n",
    "mr_save_paths = []\n",
    "mr_paths = []\n",
    "for pat in pat_folders:\n",
    "    temp = pat.split('/')[-1].split('_')\n",
    "    ID = temp[1]\n",
    "    date = temp[3]\n",
    "    sixdig = temp[4]\n",
    "    frac = temp[6]\n",
    "    if temp[2] == 'MR':\n",
    "        mr_paths.append(pat)\n",
    "        if 'Fraction.' in frac:\n",
    "            save_path = str(result_dir + '/' + ID + '/' + 'MR' + '/'+ date + '_' + sixdig + '_' + frac[:8] + '_' + frac[9] + '.nii.gz')\n",
    "            mr_save_paths.append(save_path)\n",
    "            #if not os.path.exists(new_save_path):\n",
    "                #os.rename(save_path, new_save_path)\n",
    "                #mr_save_paths.append(new_save_path)\n",
    "        else:\n",
    "            save_path = str(result_dir + '/' + ID + '/' + 'MR' + '/'+ date + '_' + sixdig + '_' + frac + '.nii.gz')\n",
    "            mr_save_paths.append(save_path)\n",
    "            #new_save_path = str(result_dir + '/' + ID + '/' + 'MR' + '/'+ date + '_' + sixdig + '_' + frac + '.nii.gz')\n",
    "            #if not os.path.exists(new_save_path):\n",
    "                #os.rename(save_path, new_save_path)\n",
    "            #mr_save_paths.append(new_save_path)\n",
    "print(len(mr_paths), len(mr_save_paths))"
   ]
  },
  {
   "cell_type": "code",
   "execution_count": 71,
   "metadata": {},
   "outputs": [
    {
     "name": "stdout",
     "output_type": "stream",
     "text": [
      "205\n",
      "238\n"
     ]
    }
   ],
   "source": [
    "path_to_raw_data = proj_dir\n",
    "#output_path = \"/Volumes/BWH-KANNLAB/Nancy/Lung_Cancer_Radiomics/Test\"\n",
    "\n",
    "fraction_paths = [] # image paths, matches_status = 0 (no), 1 (yes)\n",
    "dcm_paths = []\n",
    "phantome_paths = []\n",
    "\n",
    "# image path: pat_folders\n",
    "\n",
    "for study_path in os.listdir(path_to_raw_data):\n",
    "    if \".DS_Store\" not in study_path:\n",
    "        for scan_path in os.listdir(path_to_raw_data+\"/\"+study_path):\n",
    "            image_path = path_to_raw_data+\"/\"+study_path+\"/\"+scan_path\n",
    "            if \"_Fraction\" in scan_path:\n",
    "                fraction_paths.append([image_path,0]) # 211\n",
    "            if \"_MR\" in scan_path and \"_Fraction\" not in scan_path:\n",
    "                phantome_paths.append([image_path,0]) # 42\n",
    "            if \"_RTst\" in scan_path:\n",
    "                dcm_paths.append([image_path,0]) # 252\n",
    "                \n",
    "matches_lst = [] # MR path, dcm path, new_path-to create\n",
    "\n",
    "for fraction_path in fraction_paths:\n",
    "    get_id = int(fraction_path[0].split(\"_Fraction.\")[1].split(\".\")[0])-1\n",
    "    get_name = fraction_path[0].split(\"/\")[-1].split(\"_MR\")[0]\n",
    "    #print(get_id,get_name)\n",
    "    for dcm_path in dcm_paths:\n",
    "        if get_name in dcm_path[0] and str(get_id).zfill(5) in dcm_path[0] and \\\n",
    "        fraction_path[0].split(\"_MR_\")[1].split(\"_\")[1]==dcm_path[0].split(\"_RTst_\")[1].split(\"_\")[1] and \\\n",
    "        fraction_path[0].split(\"_MR_\")[1].split(\"_\")[0]==dcm_path[0].split(\"_RTst_\")[1].split(\"_\")[0]:\n",
    "            matches_lst.append([fraction_path[0],dcm_path[0]+\"/\"+os.listdir(dcm_path[0])[0],get_name])\n",
    "            fraction_path[1] = 1\n",
    "            dcm_path[1] = 1\n",
    "            break\n",
    "\n",
    "print(len(matches_lst))\n",
    "for phantome_path in phantome_paths:\n",
    "    if phantome_path[1] != 1:\n",
    "        get_name_ph = phantome_path[0].split(\"/\")[-1].split(\"_MR\")[0]\n",
    "        for dcm_path in dcm_paths:\n",
    "            if dcm_path[1] != 1:\n",
    "                get_name_dc = dcm_path[0].split(\"/\")[-1].split(\"_RTs\")[0]\n",
    "                #print(phantome_path[0].split(\"_MR_\")[1].split(\"_\")[0])\n",
    "                if get_name_ph == get_name_dc and phantome_path[0].split(\"_MR_\")[1].split(\"_\")[1]==dcm_path[0].split(\"_RTst_\")[1].split(\"_\")[1]:\n",
    "                    #and \\\n",
    "                    #print(phantome_path[0].split(\"_MR_\")[1].split(\"_\")[1]==dcm_path[0].split(\"_RTst_\")[1].split(\"_\")[1])# and \\\n",
    "                    #print(phantome_path[0].split(\"_MR_\")[1].split(\"_\")[1]==dcm_path[0].split(\"_RTst_\")[1].split(\"_\")[1])\n",
    "                    #print(phantome_path[0].split(\"_MR_\")[1].split(\"_\")[1])\n",
    "                    matches_lst.append([phantome_path[0],dcm_path[0]+\"/\"+os.listdir(dcm_path[0])[0],get_name_ph])\n",
    "                    phantome_path[1] = 1\n",
    "                    dcm_path[1] = 1\n",
    "                    break\n",
    "\n",
    "i = 0\n",
    "print(len(matches_lst))"
   ]
  },
  {
   "cell_type": "code",
   "execution_count": 17,
   "metadata": {},
   "outputs": [],
   "source": [
    "def match_MR_RTstruct(pat_folders):\n",
    "    ''' match MR scan with RT struct\n",
    "    \n",
    "    Args:\n",
    "    pat_folders: path to the patient MRI folder\n",
    "    '''\n",
    "\n",
    "    fraction_paths = []\n",
    "    rtst_paths = []\n",
    "    phantome_paths = []\n",
    "    match_list = []\n",
    "\n",
    "    # get RTst paths \n",
    "    for pat in pat_folders:\n",
    "        if '_RTst' in pat: # 252\n",
    "            rtst_paths.append([pat,0])\n",
    "        if \"_Fraction\" in pat: # 211\n",
    "            fraction_paths.append([pat,0])\n",
    "        if \"_MR\" in pat and \"_Fraction\" not in pat: # 42\n",
    "            phantome_paths.append([pat,0])\n",
    "    \n",
    "    # match list\n",
    "    # case 1: MR fraction scan. match if: pat id, frac id, 6 digit, date same\n",
    "    for fraction_path in fraction_paths:\n",
    "        temp = fraction_path[0].split('/')[-1].split('_')\n",
    "        ID = temp[1]\n",
    "        date = temp[3]\n",
    "        sixdig = temp[4]\n",
    "        frac = temp[6][9]\n",
    "        for rtst_path in rtst_paths:\n",
    "            rtst_temp = rtst_path[0].split('/')[-1].split('_')\n",
    "            if ID == rtst_temp[1] and int(frac) == (int(rtst_temp[-1][4])+1) and sixdig == rtst_temp[4] and date == rtst_temp[3]:\n",
    "                fraction_path[1] = 1\n",
    "                rtst_path[1] = 1\n",
    "                match_list.append([ID, fraction_path[0], rtst_path[0]]) # 205\n",
    "                break\n",
    "        \n",
    "    # case 2: MR sim? scan. match if: pat id, 6 digit same\n",
    "    for phantome_path in phantome_paths:\n",
    "        # check if matched in case 1\n",
    "        if phantome_path[1] != 1:\n",
    "            ID = phantome_path[0].split('/')[-1].split('_')[1]\n",
    "            sixdig = phantome_path[0].split('/')[-1].split('_')[4]\n",
    "            for rtst_path in rtst_paths:\n",
    "                if rtst_path[1] != 1:\n",
    "                    rtst_temp = rtst_path[0].split('/')[-1].split('_')\n",
    "                    if ID == rtst_temp[1] and sixdig == rtst_temp[4]:\n",
    "                        phantome_path[1] = 1\n",
    "                        rtst_path[1] = 1\n",
    "                        match_list.append([ID, phantome_path[0], rtst_path[0]]) # 238\n",
    "                        break\n",
    "        \n",
    "    return rtst_paths, fraction_paths, phantome_paths, match_list # len(match_list) = 238"
   ]
  },
  {
   "cell_type": "code",
   "execution_count": 18,
   "metadata": {},
   "outputs": [
    {
     "name": "stdout",
     "output_type": "stream",
     "text": [
      "252 211 42 238\n"
     ]
    }
   ],
   "source": [
    "#len(match_MR_RTstruct(pat_folders)[3])\n",
    "rtst_paths, fraction_paths, phantome_paths, match_list = match_MR_RTstruct(pat_folders)\n",
    "print(len(rtst_paths), len(fraction_paths), len(phantome_paths), len(match_list)) # 252 211 42 238\n",
    "#pd.DataFrame(match_list).to_csv('match_list.csv', header=['patient_id', 'mr_image_path', 'rt_struct_path'])"
   ]
  },
  {
   "cell_type": "code",
   "execution_count": 73,
   "metadata": {},
   "outputs": [],
   "source": [
    "pd.DataFrame(match_list).to_csv('match_list.csv', header=['patient_id', 'mr_image_path', 'rt_struct_path'])"
   ]
  },
  {
   "cell_type": "code",
   "execution_count": 41,
   "metadata": {},
   "outputs": [],
   "source": [
    "def unmatch_MR_RTstruct(rtst_paths, phantome_paths):\n",
    "    unmatched_rtst = []\n",
    "    for rtst_path in rtst_paths:\n",
    "        if rtst_path[1] != 1:\n",
    "            ID = rtst_path[0].split('/')[-1].split('_')[1]\n",
    "            unmatched_rtst.append([ID, rtst_path[0]])\n",
    "\n",
    "    unmatched_mris = []\n",
    "    for phantome_path in phantome_paths:\n",
    "        if phantome_path[1] != 1:\n",
    "            ID = phantome_path[0].split('/')[-1].split('_')[1]\n",
    "            unmatched_mris.append([ID, phantome_path[0]])\n",
    "\n",
    "    return unmatched_rtst, unmatched_mris"
   ]
  },
  {
   "cell_type": "code",
   "execution_count": 42,
   "metadata": {},
   "outputs": [],
   "source": [
    "unmatched_rtst, unmatched_mris = unmatch_MR_RTstruct(rtst_paths, phantome_paths)\n",
    "#pd.DataFrame(unmatched_rtst).to_csv('unmatched_rtst.csv', header=['patient_id','rtst_path'])\n",
    "#pd.DataFrame(unmatched_mris).to_csv('unmatched_mris.csv', header=['patient_id','mr_path'])"
   ]
  },
  {
   "cell_type": "code",
   "execution_count": 80,
   "metadata": {},
   "outputs": [],
   "source": [
    "def convert_rtstruct(pat_id, dcm_img, dcm_rt_file, prefix='Struct_', \n",
    "                     output_dir='.', output_img=None, spacing=None):\n",
    "    dcm_rt_path = list_dir(dcm_rt_file)[0]\n",
    "    temp = dcm_img.split('/')[-1].split('_')\n",
    "    frac = temp[6]\n",
    "    pat_id = temp[1]\n",
    "    date = temp[3]\n",
    "    sixdig = temp[4]\n",
    "    rtstruct_stored_paths = []\n",
    "\n",
    "    if 'Fraction.' in dcm_img.split('/')[-1]:\n",
    "        output_folder = result_dir + '/' + pat_id + '/' + date + '_' + sixdig + '_' + frac[:8] + '_' + frac[9]\n",
    "        rtstruct_stored_paths.append(output_folder)\n",
    "    else:\n",
    "        output_folder = result_dir + '/' + pat_id + '/' + date + '_' + sixdig + '_' + frac\n",
    "        rtstruct_stored_paths.append(output_folder)\n",
    "    try:\n",
    "        platipy.dicom.io.rtstruct_to_nifti.convert_rtstruct(dcm_img, dcm_rt_path, prefix='Struct_', \n",
    "                        output_dir=output_folder, output_img=None, spacing=None)\n",
    "        print('Patient', pat_id, 'rtstruct converted to nii.gz.')\n",
    "    except Exception as e:\n",
    "        print('patient_id:{} error:{}'.format(pat_id, e))\n",
    "    return rtstruct_stored_paths"
   ]
  },
  {
   "cell_type": "code",
   "execution_count": 81,
   "metadata": {},
   "outputs": [
    {
     "name": "stderr",
     "output_type": "stream",
     "text": [
      "/Library/Frameworks/Python.framework/Versions/3.9/lib/python3.9/site-packages/pydicom/valuerep.py:290: UserWarning: The value length (17) exceeds the maximum length of 16 allowed for VR SH.\n",
      "  warnings.warn(msg)\n"
     ]
    },
    {
     "name": "stdout",
     "output_type": "stream",
     "text": [
      "patient_id:10122928624 error:ufunc 'logical_or' did not contain a loop with signature matching types (None, <class 'numpy.dtype[str_]'>) -> None\n"
     ]
    },
    {
     "data": {
      "text/plain": [
       "['/Volumes/BWH-KANNLAB/Nancy/Lung_Cancer_Radiomics/Data/10122928624/2021-12-07_121612_Fraction_5']"
      ]
     },
     "execution_count": 81,
     "metadata": {},
     "output_type": "execute_result"
    }
   ],
   "source": [
    "convert_rtstruct(pat_id = match_list[169][0], \n",
    "                     dcm_img = match_list[169][1], \n",
    "                     dcm_rt_file = match_list[169][2], \n",
    "                     output_dir= result_dir)"
   ]
  },
  {
   "cell_type": "code",
   "execution_count": null,
   "metadata": {},
   "outputs": [],
   "source": [
    "#convert_rtstruct(match_list[0][0], match_list[0][1], match_list[0][2], output_dir= result_dir\n",
    "#result_dir + '/' + match_list[0][0] + '/RTstruct'\n",
    "#print(match_list[0][0], match_list[0][1], match_list[0][2])\n",
    "for match in match_list:\n",
    "    convert_rtstruct(pat_id = match[0], \n",
    "                     dcm_img = match[1], \n",
    "                     dcm_rt_file = match[2], \n",
    "                     output_dir= result_dir)\n",
    "l = []\n",
    "for match in match_list:\n",
    "    l.extend(convert_rtstruct(pat_id = match[0], \n",
    "                     dcm_img = match[1], \n",
    "                     dcm_rt_file = match[2], \n",
    "                     output_dir= result_dir))\n",
    "# export data\n",
    "l_df = pd.DataFrame({'rt_struct_stored_path':l})\n",
    "l_df.to_csv('l.csv')"
   ]
  },
  {
   "cell_type": "code",
   "execution_count": 18,
   "metadata": {},
   "outputs": [
    {
     "name": "stdout",
     "output_type": "stream",
     "text": [
      "patient_id:10122928624 error:ufunc 'logical_or' did not contain a loop with signature matching types (None, <class 'numpy.dtype[str_]'>) -> None\n"
     ]
    }
   ],
   "source": [
    "convert_rtstruct(pat_id = match_list[169][0], \n",
    "                     dcm_img = match_list[169][1], \n",
    "                     dcm_rt_file = match_list[169][2], \n",
    "                     output_dir= result_dir)"
   ]
  },
  {
   "cell_type": "code",
   "execution_count": 70,
   "metadata": {},
   "outputs": [],
   "source": [
    "# force match MR images & RT structs\n",
    "# 10088707426 F3\n",
    "platipy.dicom.io.rtstruct_to_nifti.convert_rtstruct( \n",
    "                     dcm_img = '/Volumes/BWH-KANNLAB/Ben/MRL_Radiomics/MRL_Radiomics_Lung/MRL_Lung_BWH_data/2020-09__Studies/PRITZKY^ JOSEPH_10088707426_MR_2020-09-21_132259_._Fraction.3.Setup.Scan.Reopt_n144__00000', \n",
    "                     dcm_rt_file = '/Volumes/BWH-KANNLAB/Ben/MRL_Radiomics/MRL_Radiomics_Lung/MRL_Lung_BWH_data/2020-09__Studies/PRITZKY^ JOSEPH_10088707426_RTst_2020-09-21_132259_._._n1__00000/2.16.840.1.114493.1.4.227.3.20201203175839603.dcm', \n",
    "                     output_dir= '/Volumes/BWH-KANNLAB/Nancy/Lung_Cancer_Radiomics/Data/10088707426/2020-09-21_132259_Fraction_3')"
   ]
  },
  {
   "cell_type": "code",
   "execution_count": null,
   "metadata": {},
   "outputs": [],
   "source": [
    "# sim\n",
    "platipy.dicom.io.rtstruct_to_nifti.convert_rtstruct( \n",
    "                     dcm_img = '/Volumes/BWH-KANNLAB/Ben/MRL_Radiomics/MRL_Radiomics_Lung/MRL_Lung_BWH_data/2020-01__Studies/TETREAULT^ DAVID_10061253158_MR_2020-01-16_122811_._54x47x43.25sec.LIBH_n144__00000', \n",
    "                     dcm_rt_file = '/Volumes/BWH-KANNLAB/Ben/MRL_Radiomics/MRL_Radiomics_Lung/MRL_Lung_BWH_data/2020-05__Studies/TETREAULT^ DAVID_10061253158_RTst_2020-05-07_145548_._._n1__00000/2.16.840.1.114493.1.4.227.5.20200507145547843.dcm', \n",
    "                     output_dir= '/Volumes/BWH-KANNLAB/Nancy/Lung_Cancer_Radiomics/Data/10061253158/2020-01-16_122811_54x47x43.25sec.LIBH')"
   ]
  },
  {
   "cell_type": "code",
   "execution_count": null,
   "metadata": {},
   "outputs": [],
   "source": [
    "if __name__ == '__main__':\n",
    "    proj_dir = '/Volumes/BWH-KANNLAB/Ben/MRL_Radiomics/MRL_Radiomics_Lung/MRL_Lung_BWH_data'\n",
    "    result_dir = '/Volumes/BWH-KANNLAB/Nancy/Lung_Cancer_Radiomics/Data'\n",
    "    pat_folders = get_pat_folder(proj_dir)\n",
    "    create_pat_folder(pat_folders)\n",
    "    convert_dicom_image(pat_folders)"
   ]
  }
 ],
 "metadata": {
  "kernelspec": {
   "display_name": "Python 3",
   "language": "python",
   "name": "python3"
  },
  "language_info": {
   "codemirror_mode": {
    "name": "ipython",
    "version": 3
   },
   "file_extension": ".py",
   "mimetype": "text/x-python",
   "name": "python",
   "nbconvert_exporter": "python",
   "pygments_lexer": "ipython3",
   "version": "3.9.1"
  },
  "orig_nbformat": 4
 },
 "nbformat": 4,
 "nbformat_minor": 2
}
